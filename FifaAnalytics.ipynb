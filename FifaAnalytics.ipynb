{
 "cells": [
  {
   "cell_type": "markdown",
   "metadata": {},
   "source": [
    "### Importing Necessary Libraries"
   ]
  },
  {
   "cell_type": "code",
   "execution_count": 1,
   "metadata": {},
   "outputs": [],
   "source": [
    "from pyspark.sql import SparkSession\n",
    "from pyspark.sql.functions import col, max"
   ]
  },
  {
   "cell_type": "markdown",
   "metadata": {},
   "source": [
    "### Creating a SparkSession"
   ]
  },
  {
   "cell_type": "code",
   "execution_count": 2,
   "metadata": {},
   "outputs": [
    {
     "data": {
      "text/html": [
       "\n",
       "            <div>\n",
       "                <p><b>SparkSession - in-memory</b></p>\n",
       "                \n",
       "        <div>\n",
       "            <p><b>SparkContext</b></p>\n",
       "\n",
       "            <p><a href=\"http://Aayishas-PC:4040\">Spark UI</a></p>\n",
       "\n",
       "            <dl>\n",
       "              <dt>Version</dt>\n",
       "                <dd><code>v3.3.0</code></dd>\n",
       "              <dt>Master</dt>\n",
       "                <dd><code>local[*]</code></dd>\n",
       "              <dt>AppName</dt>\n",
       "                <dd><code>FIFA Ranking Analysis</code></dd>\n",
       "            </dl>\n",
       "        </div>\n",
       "        \n",
       "            </div>\n",
       "        "
      ],
      "text/plain": [
       "<pyspark.sql.session.SparkSession at 0x1d6f7a4c1c0>"
      ]
     },
     "execution_count": 2,
     "metadata": {},
     "output_type": "execute_result"
    }
   ],
   "source": [
    "spark = SparkSession.builder.appName(\"FIFA Ranking Analysis\").getOrCreate()\n",
    "spark"
   ]
  },
  {
   "cell_type": "markdown",
   "metadata": {},
   "source": [
    "### Reading the dataset"
   ]
  },
  {
   "cell_type": "code",
   "execution_count": 3,
   "metadata": {},
   "outputs": [
    {
     "name": "stdout",
     "output_type": "stream",
     "text": [
      "+-----------+---------+-----------+----+-------------+-------+---------------+\n",
      "|       team|team_code|association|rank|previous_rank| points|previous_points|\n",
      "+-----------+---------+-----------+----+-------------+-------+---------------+\n",
      "|     Brazil|      BRA|   CONMEBOL|   1|            1| 1841.3|        1837.56|\n",
      "|    Belgium|      BEL|       UEFA|   2|            2|1816.71|        1821.92|\n",
      "|  Argentina|      ARG|   CONMEBOL|   3|            3|1773.88|        1770.65|\n",
      "|     France|      FRA|       UEFA|   4|            4|1759.78|        1764.85|\n",
      "|    England|      ENG|       UEFA|   5|            5|1728.47|        1737.46|\n",
      "|      Italy|      ITA|       UEFA|   6|            7|1726.14|        1713.86|\n",
      "|      Spain|      ESP|       UEFA|   7|            6|1715.22|        1716.93|\n",
      "|Netherlands|      NED|       UEFA|   8|            8|1694.51|        1679.41|\n",
      "|   Portugal|      POR|       UEFA|   9|            9|1676.56|        1678.65|\n",
      "|    Denmark|      DEN|       UEFA|  10|           10|1666.57|        1665.47|\n",
      "+-----------+---------+-----------+----+-------------+-------+---------------+\n",
      "only showing top 10 rows\n",
      "\n"
     ]
    }
   ],
   "source": [
    "data = spark.read.csv(\"FWC2022.csv\", header=True, inferSchema=True)\n",
    "data.show(10)"
   ]
  },
  {
   "cell_type": "markdown",
   "metadata": {},
   "source": [
    "#### Question 1: How many teams are included in the dataset?"
   ]
  },
  {
   "cell_type": "code",
   "execution_count": 4,
   "metadata": {},
   "outputs": [
    {
     "name": "stdout",
     "output_type": "stream",
     "text": [
      "Number of teams: 211\n"
     ]
    }
   ],
   "source": [
    "num_teams = data.count()\n",
    "print(\"Number of teams:\", num_teams)"
   ]
  },
  {
   "cell_type": "markdown",
   "metadata": {},
   "source": [
    "#### Question 2: Which team has the highest rank?"
   ]
  },
  {
   "cell_type": "code",
   "execution_count": 5,
   "metadata": {},
   "outputs": [
    {
     "name": "stdout",
     "output_type": "stream",
     "text": [
      "Team with the highest rank: Brazil\n"
     ]
    }
   ],
   "source": [
    "highest_rank_team = data.orderBy(\"rank\").select(\"team\").first()[0]\n",
    "print(\"Team with the highest rank:\", highest_rank_team)"
   ]
  },
  {
   "cell_type": "markdown",
   "metadata": {},
   "source": [
    "#### Question 3: Top five teams and their points"
   ]
  },
  {
   "cell_type": "code",
   "execution_count": 6,
   "metadata": {},
   "outputs": [
    {
     "name": "stdout",
     "output_type": "stream",
     "text": [
      "+---------+-------+\n",
      "|     team| points|\n",
      "+---------+-------+\n",
      "|   Brazil| 1841.3|\n",
      "|  Belgium|1816.71|\n",
      "|Argentina|1773.88|\n",
      "|   France|1759.78|\n",
      "|  England|1728.47|\n",
      "+---------+-------+\n",
      "\n"
     ]
    }
   ],
   "source": [
    "top_5_teams_df = data.orderBy('points', ascending=False).select('team', 'points').limit(5)\n",
    "top_5_teams_df.show()"
   ]
  },
  {
   "cell_type": "markdown",
   "metadata": {},
   "source": [
    "#### Question 4: What is the average rank among all the teams?"
   ]
  },
  {
   "cell_type": "code",
   "execution_count": 7,
   "metadata": {},
   "outputs": [
    {
     "name": "stdout",
     "output_type": "stream",
     "text": [
      "Average rank among all teams: 106.0\n"
     ]
    }
   ],
   "source": [
    "average_rank = data.agg({\"rank\": \"avg\"}).collect()[0][0]\n",
    "print(\"Average rank among all teams:\", average_rank)"
   ]
  },
  {
   "cell_type": "markdown",
   "metadata": {},
   "source": [
    "#### Question 5: Which team has the highest points?"
   ]
  },
  {
   "cell_type": "code",
   "execution_count": 8,
   "metadata": {},
   "outputs": [
    {
     "name": "stdout",
     "output_type": "stream",
     "text": [
      "Team with the highest points: Brazil\n"
     ]
    }
   ],
   "source": [
    "highest_points_team = data.orderBy(\"points\", ascending=False).select(\"team\").first()[0]\n",
    "print(\"Team with the highest points:\", highest_points_team)"
   ]
  },
  {
   "cell_type": "markdown",
   "metadata": {},
   "source": [
    "#### Question 6: List the top 5 teams with the highest points."
   ]
  },
  {
   "cell_type": "code",
   "execution_count": 9,
   "metadata": {},
   "outputs": [
    {
     "name": "stdout",
     "output_type": "stream",
     "text": [
      "Top 5 Teams with Highest Points:\n"
     ]
    },
    {
     "data": {
      "text/plain": [
       "['Brazil', 'Belgium', 'Argentina', 'France', 'England']"
      ]
     },
     "execution_count": 9,
     "metadata": {},
     "output_type": "execute_result"
    }
   ],
   "source": [
    "top_5_teams = data.orderBy('points', ascending=False).select('team').limit(5).collect()\n",
    "print(\"Top 5 Teams with Highest Points:\")\n",
    "[row['team'] for row in top_5_teams]"
   ]
  },
  {
   "cell_type": "markdown",
   "metadata": {},
   "source": [
    "#### Question 7: What is the total number of points across all teams?"
   ]
  },
  {
   "cell_type": "code",
   "execution_count": 10,
   "metadata": {},
   "outputs": [
    {
     "name": "stdout",
     "output_type": "stream",
     "text": [
      "Total number of points across all teams: 257565.02999999997\n"
     ]
    }
   ],
   "source": [
    "total_points = data.agg({\"points\": \"sum\"}).collect()[0][0]\n",
    "print(\"Total number of points across all teams:\", total_points)"
   ]
  },
  {
   "cell_type": "markdown",
   "metadata": {},
   "source": [
    "#### Question 7: How many teams belong to the UEFA association?"
   ]
  },
  {
   "cell_type": "code",
   "execution_count": 11,
   "metadata": {},
   "outputs": [
    {
     "name": "stdout",
     "output_type": "stream",
     "text": [
      "Number of teams belonging to UEFA association: 55\n"
     ]
    }
   ],
   "source": [
    "uefa_teams_count = data.filter(data.association == \"UEFA\")\n",
    "print(\"Number of teams belonging to UEFA association:\", uefa_teams_count.count())"
   ]
  },
  {
   "cell_type": "markdown",
   "metadata": {},
   "source": [
    "#### Question 8: Which teams belong to the CONMEBOL association"
   ]
  },
  {
   "cell_type": "code",
   "execution_count": 12,
   "metadata": {},
   "outputs": [
    {
     "name": "stdout",
     "output_type": "stream",
     "text": [
      "+---------+\n",
      "|     team|\n",
      "+---------+\n",
      "|   Brazil|\n",
      "|Argentina|\n",
      "|  Uruguay|\n",
      "| Colombia|\n",
      "|     Peru|\n",
      "|    Chile|\n",
      "|  Ecuador|\n",
      "| Paraguay|\n",
      "|Venezuela|\n",
      "|  Bolivia|\n",
      "+---------+\n",
      "\n"
     ]
    }
   ],
   "source": [
    "conmebol_teams_df = data.filter(data['association'] == 'CONMEBOL').select('team')\n",
    "conmebol_teams_df.show()"
   ]
  },
  {
   "cell_type": "markdown",
   "metadata": {},
   "source": [
    "#### Question 9: What is the rank of the Qatars team?"
   ]
  },
  {
   "cell_type": "code",
   "execution_count": 13,
   "metadata": {},
   "outputs": [
    {
     "name": "stdout",
     "output_type": "stream",
     "text": [
      "Rank of the Qatars team: 50\n"
     ]
    }
   ],
   "source": [
    "qatars_rank = data.filter(data.team == \"Qatar\").select(\"rank\").first()[0]\n",
    "print(\"Rank of the Qatars team:\", qatars_rank)"
   ]
  },
  {
   "cell_type": "markdown",
   "metadata": {},
   "source": [
    "#### Question 10: What is the average previous points of all teams?"
   ]
  },
  {
   "cell_type": "code",
   "execution_count": 14,
   "metadata": {},
   "outputs": [
    {
     "name": "stdout",
     "output_type": "stream",
     "text": [
      "Average previous points of all teams: 1220.645592417061\n"
     ]
    }
   ],
   "source": [
    "average_previous_points = data.agg({\"previous_points\": \"avg\"}).collect()[0][0]\n",
    "print(\"Average previous points of all teams:\", average_previous_points)"
   ]
  },
  {
   "cell_type": "markdown",
   "metadata": {},
   "source": [
    "#### Question 11: Which team has the highest difference between current and previous rank?"
   ]
  },
  {
   "cell_type": "code",
   "execution_count": 15,
   "metadata": {},
   "outputs": [
    {
     "name": "stdout",
     "output_type": "stream",
     "text": [
      "Team with the highest difference between current and previous rank: Scotland\n"
     ]
    }
   ],
   "source": [
    "\n",
    "df = data.withColumn(\"rank_difference\", data.previous_rank - data.rank)\n",
    "highest_rank_difference_team = df.orderBy(\"rank_difference\", ascending=False).select(\"team\").first()[0]\n",
    "print(\"Team with the highest difference between current and previous rank:\", highest_rank_difference_team)"
   ]
  },
  {
   "cell_type": "markdown",
   "metadata": {},
   "source": [
    "#### Question 12: Which teams' ranks have improved from the previous ranking and with how many points?"
   ]
  },
  {
   "cell_type": "code",
   "execution_count": 16,
   "metadata": {},
   "outputs": [
    {
     "name": "stdout",
     "output_type": "stream",
     "text": [
      "+-------------+---------------+\n",
      "|         team|rank_difference|\n",
      "+-------------+---------------+\n",
      "|        Italy|              1|\n",
      "|      Croatia|              3|\n",
      "|  Switzerland|              1|\n",
      "|      IR Iran|              2|\n",
      "|       Serbia|              4|\n",
      "|      Morocco|              1|\n",
      "|   Costa Rica|              3|\n",
      "|       Russia|              2|\n",
      "|      Hungary|              1|\n",
      "|      Algeria|              4|\n",
      "|    Australia|              1|\n",
      "|        Egypt|              1|\n",
      "|     Scotland|              5|\n",
      "|       Canada|              2|\n",
      "|     Paraguay|              3|\n",
      "|Côte d'Ivoire|              4|\n",
      "| Saudi Arabia|              2|\n",
      "|      Romania|              1|\n",
      "| Burkina Faso|              1|\n",
      "|      Finland|              3|\n",
      "+-------------+---------------+\n",
      "only showing top 20 rows\n",
      "\n"
     ]
    }
   ],
   "source": [
    "rank_difference_df = data.withColumn(\"rank_difference\", data[\"previous_rank\"] - data[\"rank\"])\n",
    "improved_teams_rank_diff_df = rank_difference_df.filter(col(\"rank_difference\") > 0).select(\"team\", \"rank_difference\")\n",
    "improved_teams_rank_diff_df.show()"
   ]
  },
  {
   "cell_type": "markdown",
   "metadata": {},
   "source": [
    "#### Question 13: How many teams have a rank lower than 10?"
   ]
  },
  {
   "cell_type": "code",
   "execution_count": 17,
   "metadata": {},
   "outputs": [
    {
     "name": "stdout",
     "output_type": "stream",
     "text": [
      "Number of teams with a rank lower than 10: 9\n"
     ]
    }
   ],
   "source": [
    "teams_rank_below_10 = df.filter(df.rank < 10).count()\n",
    "print(\"Number of teams with a rank lower than 10:\", teams_rank_below_10)"
   ]
  },
  {
   "cell_type": "markdown",
   "metadata": {},
   "source": [
    "#### Question 14: Which teams have ranks below 10"
   ]
  },
  {
   "cell_type": "code",
   "execution_count": 18,
   "metadata": {},
   "outputs": [
    {
     "name": "stdout",
     "output_type": "stream",
     "text": [
      "+-----------+\n",
      "|       team|\n",
      "+-----------+\n",
      "|     Brazil|\n",
      "|    Belgium|\n",
      "|  Argentina|\n",
      "|     France|\n",
      "|    England|\n",
      "|      Italy|\n",
      "|      Spain|\n",
      "|Netherlands|\n",
      "|   Portugal|\n",
      "|    Denmark|\n",
      "+-----------+\n",
      "\n"
     ]
    }
   ],
   "source": [
    "rank_below_10_df = data.filter(data['rank'] <= 10).select('team')\n",
    "rank_below_10_df.show()"
   ]
  },
  {
   "cell_type": "markdown",
   "metadata": {},
   "source": [
    "#### Question 15: Which association holds highest points?"
   ]
  },
  {
   "cell_type": "code",
   "execution_count": 19,
   "metadata": {},
   "outputs": [
    {
     "name": "stdout",
     "output_type": "stream",
     "text": [
      "Association with the highest points: CONMEBOL\n",
      "Points: 1841.3\n"
     ]
    }
   ],
   "source": [
    "max_points_df = data.groupBy('association').agg(max('points').alias('max_points'))\n",
    "highest_points_association_df = max_points_df.orderBy('max_points', ascending=False).limit(1)\n",
    "highest_points_association = highest_points_association_df.select('association', 'max_points').first()\n",
    "print(\"Association with the highest points:\", highest_points_association['association'])\n",
    "print(\"Points:\", highest_points_association['max_points'])"
   ]
  }
 ],
 "metadata": {
  "kernelspec": {
   "display_name": "Python 3",
   "language": "python",
   "name": "python3"
  },
  "language_info": {
   "codemirror_mode": {
    "name": "ipython",
    "version": 3
   },
   "file_extension": ".py",
   "mimetype": "text/x-python",
   "name": "python",
   "nbconvert_exporter": "python",
   "pygments_lexer": "ipython3",
   "version": "3.10.9"
  }
 },
 "nbformat": 4,
 "nbformat_minor": 2
}
